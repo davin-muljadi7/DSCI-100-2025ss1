{
 "cells": [
  {
   "cell_type": "code",
   "execution_count": 1,
   "id": "dc40c8e3-1d06-4fe9-a04c-4c8aac4473e8",
   "metadata": {},
   "outputs": [
    {
     "name": "stderr",
     "output_type": "stream",
     "text": [
      "── \u001b[1mAttaching core tidyverse packages\u001b[22m ──────────────────────── tidyverse 2.0.0 ──\n",
      "\u001b[32m✔\u001b[39m \u001b[34mdplyr    \u001b[39m 1.1.4     \u001b[32m✔\u001b[39m \u001b[34mreadr    \u001b[39m 2.1.5\n",
      "\u001b[32m✔\u001b[39m \u001b[34mforcats  \u001b[39m 1.0.0     \u001b[32m✔\u001b[39m \u001b[34mstringr  \u001b[39m 1.5.1\n",
      "\u001b[32m✔\u001b[39m \u001b[34mggplot2  \u001b[39m 3.5.1     \u001b[32m✔\u001b[39m \u001b[34mtibble   \u001b[39m 3.2.1\n",
      "\u001b[32m✔\u001b[39m \u001b[34mlubridate\u001b[39m 1.9.3     \u001b[32m✔\u001b[39m \u001b[34mtidyr    \u001b[39m 1.3.1\n",
      "\u001b[32m✔\u001b[39m \u001b[34mpurrr    \u001b[39m 1.0.2     \n",
      "── \u001b[1mConflicts\u001b[22m ────────────────────────────────────────── tidyverse_conflicts() ──\n",
      "\u001b[31m✖\u001b[39m \u001b[34mdplyr\u001b[39m::\u001b[32mfilter()\u001b[39m masks \u001b[34mstats\u001b[39m::filter()\n",
      "\u001b[31m✖\u001b[39m \u001b[34mdplyr\u001b[39m::\u001b[32mlag()\u001b[39m    masks \u001b[34mstats\u001b[39m::lag()\n",
      "\u001b[36mℹ\u001b[39m Use the conflicted package (\u001b[3m\u001b[34m<http://conflicted.r-lib.org/>\u001b[39m\u001b[23m) to force all conflicts to become errors\n"
     ]
    }
   ],
   "source": [
    "library(tidyverse)"
   ]
  },
  {
   "cell_type": "markdown",
   "id": "2b985ffd-5907-48b3-a9f2-1ecee31b3ded",
   "metadata": {},
   "source": [
    "In this part, a regression model was performed to predict whether a player subscribes to the news letter based on demographic and behavioral features. Using cleaned and merged data, we selected key predictors including age, total played hours, number of sessions, average session duration, and total play duration. Moreover, the dataset was split into training (70%) and testing (30%) sets. \n",
    "\n",
    "The results show that session-based features, especially playtime and engagement, are a valuable metric to distinguish subscribers from non-subscribers. Therefore, this model provides a solid baseline for understanding how player behavior correlates with subscription likelihood. "
   ]
  },
  {
   "cell_type": "code",
   "execution_count": 4,
   "id": "f5f4ef0e-4093-4fd1-b31d-9b89bc01ae8b",
   "metadata": {},
   "outputs": [
    {
     "name": "stderr",
     "output_type": "stream",
     "text": [
      "\u001b[1mRows: \u001b[22m\u001b[34m196\u001b[39m \u001b[1mColumns: \u001b[22m\u001b[34m7\u001b[39m\n",
      "\u001b[36m──\u001b[39m \u001b[1mColumn specification\u001b[22m \u001b[36m────────────────────────────────────────────────────────\u001b[39m\n",
      "\u001b[1mDelimiter:\u001b[22m \",\"\n",
      "\u001b[31mchr\u001b[39m (4): experience, hashedEmail, name, gender\n",
      "\u001b[32mdbl\u001b[39m (2): played_hours, Age\n",
      "\u001b[33mlgl\u001b[39m (1): subscribe\n",
      "\n",
      "\u001b[36mℹ\u001b[39m Use `spec()` to retrieve the full column specification for this data.\n",
      "\u001b[36mℹ\u001b[39m Specify the column types or set `show_col_types = FALSE` to quiet this message.\n",
      "\u001b[1mRows: \u001b[22m\u001b[34m1535\u001b[39m \u001b[1mColumns: \u001b[22m\u001b[34m5\u001b[39m\n",
      "\u001b[36m──\u001b[39m \u001b[1mColumn specification\u001b[22m \u001b[36m────────────────────────────────────────────────────────\u001b[39m\n",
      "\u001b[1mDelimiter:\u001b[22m \",\"\n",
      "\u001b[31mchr\u001b[39m (3): hashedEmail, start_time, end_time\n",
      "\u001b[32mdbl\u001b[39m (2): original_start_time, original_end_time\n",
      "\n",
      "\u001b[36mℹ\u001b[39m Use `spec()` to retrieve the full column specification for this data.\n",
      "\u001b[36mℹ\u001b[39m Specify the column types or set `show_col_types = FALSE` to quiet this message.\n"
     ]
    },
    {
     "ename": "ERROR",
     "evalue": "Error in createDataPartition(model_data$subscribe, p = 0.7, list = FALSE): could not find function \"createDataPartition\"\n",
     "output_type": "error",
     "traceback": [
      "Error in createDataPartition(model_data$subscribe, p = 0.7, list = FALSE): could not find function \"createDataPartition\"\nTraceback:\n"
     ]
    }
   ],
   "source": [
    "players <- read_csv(\"players.csv\")\n",
    "sessions <- read_csv(\"sessions.csv\")\n",
    "\n",
    "sessions <- sessions |>\n",
    "  mutate(start_time = dmy_hm(start_time),\n",
    "    end_time = dmy_hm(end_time),\n",
    "    session_duration_minutes = as.numeric(difftime(end_time, start_time, units = \"mins\")))\n",
    "\n",
    "session_summary <- sessions |>\n",
    "  group_by(hashedEmail) |>\n",
    "  summarise(total_sessions = n(),\n",
    "    avg_session_duration = mean(session_duration_minutes, na.rm = TRUE),\n",
    "    total_play_duration = sum(session_duration_minutes, na.rm = TRUE))\n",
    "\n",
    "player_data <- players |>\n",
    "  left_join(session_summary, by = \"hashedEmail\") |>\n",
    "  mutate(total_sessions = replace_na(total_sessions, 0),\n",
    "    avg_session_duration = replace_na(avg_session_duration, 0),\n",
    "    total_play_duration = replace_na(total_play_duration, 0),\n",
    "    Age = if_else(is.na(Age), median(Age, na.rm = TRUE), Age),\n",
    "    subscribe = as.factor(subscribe),\n",
    "    experience = as.factor(experience),\n",
    "    gender = as.factor(gender))\n",
    "\n",
    "model_data <- player_data |>\n",
    "  select(subscribe, Age, played_hours, total_sessions, avg_session_duration, total_play_duration)\n",
    "\n",
    "set.seed(123)\n",
    "split <- createDataPartition(model_data$subscribe, p = 0.7, list = FALSE)\n",
    "train_data <- model_data[split, ]\n",
    "test_data <- model_data[-split, ]\n",
    "\n",
    "model <- train(subscribe ~ .,\n",
    "               data = train_data,\n",
    "               method = \"glm\",\n",
    "               family = \"binomial\",\n",
    "               trControl = trainControl(method = \"none\"))\n",
    "\n",
    "predictions <- predict(model, newdata = test_data)\n",
    "confusionMatrix(predictions, test_data$subscribe)\n",
    "\n",
    "results <- test_data |>\n",
    "  select(subscribe) |>\n",
    "  mutate(predicted = predictions)\n",
    "\n",
    "head(results)"
   ]
  },
  {
   "cell_type": "code",
   "execution_count": null,
   "id": "7935880f-e775-43ac-a977-09ab0d27c919",
   "metadata": {},
   "outputs": [],
   "source": []
  }
 ],
 "metadata": {
  "kernelspec": {
   "display_name": "R",
   "language": "R",
   "name": "ir"
  },
  "language_info": {
   "codemirror_mode": "r",
   "file_extension": ".r",
   "mimetype": "text/x-r-source",
   "name": "R",
   "pygments_lexer": "r",
   "version": "4.3.3"
  }
 },
 "nbformat": 4,
 "nbformat_minor": 5
}
